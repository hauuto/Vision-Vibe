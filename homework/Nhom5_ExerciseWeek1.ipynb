{
  "cells": [
    {
      "cell_type": "code",
      "execution_count": null,
      "metadata": {
        "colab": {
          "base_uri": "https://localhost:8080/"
        },
        "id": "98iciiSa1uRB",
        "outputId": "b2951cbb-24ee-41dc-d23a-ff314b1c4f76"
      },
      "outputs": [],
      "source": [
        "!python --version\n",
        "%pwd\n",
        "%ls"
      ]
    },
    {
      "cell_type": "code",
      "execution_count": null,
      "metadata": {
        "colab": {
          "base_uri": "https://localhost:8080/"
        },
        "id": "PfQ2ZxeU2A-w",
        "outputId": "7e5e5047-64a3-4d07-fae7-0dc1e958b9ae"
      },
      "outputs": [],
      "source": [
        "# #Mount GG Drive\n",
        "# from google.colab import drive\n",
        "# drive.mount('/content/drive')"
      ]
    },
    {
      "cell_type": "code",
      "execution_count": null,
      "metadata": {
        "id": "vRfaaVKZ2QHa"
      },
      "outputs": [],
      "source": [
        "#import libraries\n",
        "import cv2\n",
        "# from google.colab.patches import cv2_imshow\n",
        "#to display at jupyter notebook\n",
        "import matplotlib.pyplot as plt\n",
        "import numpy as np\n"
      ]
    },
    {
      "cell_type": "code",
      "execution_count": null,
      "metadata": {
        "id": "KUe5F8J-4xzP"
      },
      "outputs": [],
      "source": [
        "#Read images\n",
        "iname1 = \"img/1.png\"\n",
        "iname2 = \"img/2.jpg\"\n",
        "iname3 = \"img/3.jpg\"\n",
        "\n",
        "image1 = cv2.imread(iname1, cv2.IMREAD_GRAYSCALE)\n",
        "image2 = cv2.imread(iname1)\n",
        "image3 = cv2.imread(iname3)"
      ]
    },
    {
      "cell_type": "code",
      "execution_count": null,
      "metadata": {},
      "outputs": [],
      "source": []
    },
    {
      "cell_type": "code",
      "execution_count": null,
      "metadata": {},
      "outputs": [],
      "source": [
        "image1"
      ]
    },
    {
      "cell_type": "code",
      "execution_count": null,
      "metadata": {
        "colab": {
          "base_uri": "https://localhost:8080/",
          "height": 557
        },
        "id": "v94w1jU05c6C",
        "outputId": "1f4de974-f124-46d1-a4f9-0976c6e75373"
      },
      "outputs": [],
      "source": [
        "#Show images\n",
        "cv2.imshow(\"abc\", image1)\n",
        "cv2.waitKey(0)\n",
        "cv2.destroyAllWindows()"
      ]
    },
    {
      "cell_type": "code",
      "execution_count": null,
      "metadata": {
        "id": "3f1hqit82WYu"
      },
      "outputs": [],
      "source": [
        "#EXERCISE 1:\n",
        "#1. Opening and Viewing Grayscale Images\n",
        "imgGray = cv2.imread(iname1, 0)\n",
        "plt.imshow(imgGray, cmap=\"gray\")\n",
        "plt.axis(\"off\")\n",
        "plt.show()"
      ]
    },
    {
      "cell_type": "code",
      "execution_count": null,
      "metadata": {
        "id": "6Xm0tIu96rzZ"
      },
      "outputs": [],
      "source": [
        "imgGray = cv2.imread(iname2, 0)\n",
        "plt.imshow(imgGray, cmap=\"gray\")\n",
        "plt.axis(\"off\")\n",
        "plt.show()"
      ]
    },
    {
      "cell_type": "code",
      "execution_count": null,
      "metadata": {
        "id": "OFRxlm2X6iVU"
      },
      "outputs": [],
      "source": [
        "imgGray = cv2.imread(iname3, 0)\n",
        "plt.imshow(imgGray, cmap=\"gray\")\n",
        "plt.axis(\"off\")\n",
        "plt.show()"
      ]
    },
    {
      "cell_type": "code",
      "execution_count": null,
      "metadata": {
        "id": "K7tfZS3Z68P0"
      },
      "outputs": [],
      "source": [
        "# 2. Numeric Types and Conversions\n",
        "import numpy as np\n",
        "image = cv2.imread(iname1)\n",
        "plt.axis(\"off\")\n",
        "plt.imshow(image[:,:,::-1])\n"
      ]
    },
    {
      "cell_type": "code",
      "execution_count": null,
      "metadata": {
        "id": "z9aUAz0C7Vd5"
      },
      "outputs": [],
      "source": [
        "\n",
        "\n",
        "image1 = cv2.cvtColor(image, cv2.COLOR_BGR2RGB)\n",
        "image1"
      ]
    },
    {
      "cell_type": "code",
      "execution_count": null,
      "metadata": {
        "id": "c50Ib17f74i3"
      },
      "outputs": [],
      "source": [
        "#Các pixel đều ở dạng integer 16bit\n",
        "pixel_int16 = np.int16(image1)\n",
        "pixel_int16"
      ]
    },
    {
      "cell_type": "code",
      "execution_count": null,
      "metadata": {
        "id": "xTiFzJWQ8IEe"
      },
      "outputs": [],
      "source": [
        "#Ma trận gồm các giá trị [0,1]\n",
        "image1Norm = image1 / 255.0\n",
        "image1Norm"
      ]
    },
    {
      "cell_type": "code",
      "execution_count": null,
      "metadata": {
        "id": "kdbQOIpT-U7t"
      },
      "outputs": [],
      "source": [
        "# 3. Load ảnh và hiển thị đồng thời các cả các ảnh trong thư mục **img** trên jupyter\n",
        "# notebook. Sau đó dùng thư viện openCV để biến đổi các bức ảnh thành chế độ đen\n",
        "# trắng, HSV, Lab và hiển thị kết quả\n"
      ]
    },
    {
      "cell_type": "code",
      "execution_count": null,
      "metadata": {
        "id": "R5gw6fGpB5-q"
      },
      "outputs": [],
      "source": [
        "import glob\n",
        "import os"
      ]
    },
    {
      "cell_type": "code",
      "execution_count": null,
      "metadata": {
        "id": "BMqt_ajHAX_r"
      },
      "outputs": [],
      "source": [
        "image_paths = [i for i in glob.glob(\"img/*.*\") if i.endswith(('.png', '.jpg'))]\n",
        "print(\"Tìm thấy\", len(image_paths), \"ảnh\")"
      ]
    },
    {
      "cell_type": "code",
      "execution_count": null,
      "metadata": {
        "id": "vxGMKji0-aKm"
      },
      "outputs": [],
      "source": [
        "#Hiển thị đồng thời các ảnh gốc\n",
        "plt.figure(figsize=(30, 20))\n",
        "for idx, path in enumerate(image_paths):\n",
        "    # Đọc ảnh gốc (BGR)\n",
        "    img = cv2.imread(path)\n",
        "\n",
        "    #chuyển ảnh từ hệ BGR sang RGB\n",
        "    img_rgb = cv2.cvtColor(img, cv2.COLOR_BGR2RGB)\n",
        "\n",
        "    #hiển thị ảnh gốc\n",
        "    plt.subplot(len(image_paths), 4, idx*4 + 1)\n",
        "    plt.imshow(img_rgb)\n",
        "    plt.axis(\"off\")\n",
        "\n",
        "\n",
        "plt.tight_layout()\n",
        "plt.show()\n"
      ]
    },
    {
      "cell_type": "code",
      "execution_count": null,
      "metadata": {
        "id": "fmEGch-5BHLH"
      },
      "outputs": [],
      "source": [
        "#Hiển thị các ảnh ở chế độ đen trắng\n",
        "plt.figure(figsize=(30, 20))\n",
        "for idx, path in enumerate(image_paths):\n",
        "    # Đọc ảnh gốc (BGR)\n",
        "    img = cv2.imread(path)\n",
        "\n",
        "    #chuyển ảnh từ hệ BGR sang Grayscale --> Binary (đen trắng)\n",
        "    gray = cv2.cvtColor(img, cv2.COLOR_BGR2GRAY)\n",
        "    _, binary = cv2.threshold(gray, 127, 255, cv2.THRESH_BINARY)\n",
        "\n",
        "    #hiển thị ảnh gốc\n",
        "    plt.subplot(len(image_paths), 4, idx*4 + 2)\n",
        "    plt.imshow(binary, cmap=\"gray\")\n",
        "    plt.axis(\"off\")\n",
        "\n",
        "plt.tight_layout()\n",
        "plt.show()"
      ]
    },
    {
      "cell_type": "code",
      "execution_count": null,
      "metadata": {
        "id": "VJq_4RR7GDlO"
      },
      "outputs": [],
      "source": [
        "#Hiển thị các ảnh ở chế độ HSV\n",
        "plt.figure(figsize=(30, 20))\n",
        "for idx, path in enumerate(image_paths):\n",
        "    # Đọc ảnh gốc (BGR)\n",
        "    img = cv2.imread(path)\n",
        "\n",
        "    #chuyển ảnh từ hệ BGR sang HSV\n",
        "    hsv = cv2.cvtColor(img, cv2.COLOR_BGR2HSV)\n",
        "\n",
        "    #hiển thị ảnh gốc\n",
        "    plt.subplot(len(image_paths), 4, idx*4 + 3)\n",
        "    plt.imshow(hsv)\n",
        "    plt.axis(\"off\")\n",
        "\n",
        "plt.tight_layout()\n",
        "plt.show()"
      ]
    },
    {
      "cell_type": "code",
      "execution_count": null,
      "metadata": {
        "id": "MCz3AXwGGv5I"
      },
      "outputs": [],
      "source": [
        "#Hiển thị các ảnh ở chế độ Lab\n",
        "plt.figure(figsize=(30, 20))\n",
        "for idx, path in enumerate(image_paths):\n",
        "    # Đọc ảnh gốc (BGR)\n",
        "    img = cv2.imread(path)\n",
        "\n",
        "    #chuyển ảnh từ hệ BGR sang RGB\n",
        "    lab = cv2.cvtColor(img, cv2.COLOR_BGR2Lab)\n",
        "\n",
        "    #hiển thị ảnh gốc\n",
        "    plt.subplot(len(image_paths), 4, idx*4 + 3)\n",
        "    plt.imshow(lab)\n",
        "    plt.axis(\"off\")\n",
        "\n",
        "plt.tight_layout()\n",
        "plt.show()"
      ]
    },
    {
      "cell_type": "code",
      "execution_count": null,
      "metadata": {
        "id": "GPEq2eIuHMJE"
      },
      "outputs": [],
      "source": [
        "#EXERCISE 2:\n",
        "#1. RGB to grayscale\n",
        "\n",
        "#First method: Get the average of\n",
        "#Read image\n",
        "img2 = cv2.imread(iname2)\n",
        "img3 = cv2.imread(iname3)\n",
        "\n",
        "#Convert to RGB version\n",
        "rgbImg3 = cv2.cvtColor(img3, cv2.COLOR_BGR2RGB)\n",
        "rgbImg2 = cv2.cvtColor(img2, cv2.COLOR_BGR2RGB)\n",
        "\n",
        "#RGB --> Grayscale\n",
        "R2 = rgbImg2[:, :, 0]\n",
        "G2 = rgbImg2[:, :, 1]\n",
        "B2 = rgbImg2[:, :, 2]\n",
        "\n",
        "R3 = rgbImg3[:, :, 0]\n",
        "G3 = rgbImg3[:, :, 1]\n",
        "B3 = rgbImg3[:, :, 2]\n",
        "\n",
        "#Taking the average:\n",
        "greyImage2 = ((R2.astype(np.float32) + G2.astype(np.float32) + B2.astype(np.float32)) / 3.00).astype(np.uint8)\n",
        "greyImage3 = ((R3.astype(np.float32) + G3.astype(np.float32) + B3.astype(np.float32)) / 3.00).astype(np.uint8)"
      ]
    },
    {
      "cell_type": "code",
      "execution_count": null,
      "metadata": {
        "id": "b3AHmb87Id0S"
      },
      "outputs": [],
      "source": [
        "#Hiển thị ảnh xám\n",
        "plt.imshow(greyImage2, cmap=\"gray\")\n",
        "plt.axis(\"off\")"
      ]
    },
    {
      "cell_type": "code",
      "execution_count": null,
      "metadata": {
        "id": "P2GHDWn3Kfpy"
      },
      "outputs": [],
      "source": [
        "plt.imshow(greyImage3, cmap=\"gray\")\n",
        "plt.axis(\"off\")"
      ]
    },
    {
      "cell_type": "code",
      "execution_count": null,
      "metadata": {
        "id": "mt2bRdoE4xUu"
      },
      "outputs": [],
      "source": [
        "#Second method: Gray = 0.299*R + 0.587*G + 0.114*B\n",
        "iname4 = \"/content/drive/MyDrive/MyImage_IP/IP_2025/Meme4.jpg\"\n",
        "img4 = cv2.imread(iname4)"
      ]
    },
    {
      "cell_type": "code",
      "execution_count": null,
      "metadata": {
        "id": "RRONNsUx7_G8"
      },
      "outputs": [],
      "source": [
        "rgbImg4 = cv2.cvtColor(img4, cv2.COLOR_BGR2RGB)\n",
        "rgbImg4"
      ]
    },
    {
      "cell_type": "code",
      "execution_count": null,
      "metadata": {
        "id": "Tg342Hkr89-M"
      },
      "outputs": [],
      "source": [
        "R4 = rgbImg4[:, :, 0]\n",
        "G4 = rgbImg4[:, :, 1]\n",
        "B4 = rgbImg4[:, :, 2]\n",
        "\n",
        "#Use the formula:\n",
        "grayImage4 = (R4.astype(np.float32) * 0.299 + G4.astype(np.float32) * 0.587 + B4.astype(np.float32) * 0.114).astype(np.uint8)"
      ]
    },
    {
      "cell_type": "code",
      "execution_count": null,
      "metadata": {
        "id": "3OoOLVet9fDP"
      },
      "outputs": [],
      "source": [
        "plt.imshow(grayImage4, cmap=\"gray\")\n",
        "plt.axis(\"off\")\n",
        "plt.show()"
      ]
    },
    {
      "cell_type": "code",
      "execution_count": null,
      "metadata": {
        "id": "RyDOap1n9z3Y"
      },
      "outputs": [],
      "source": [
        "#Third method: Lightness Method - MinMax\n",
        "stack = np.stack([R4, G4, B4], axis = -1).astype(np.float32)\n",
        "greyImage4 = ((np.max(stack, axis = 2) + np.min(stack, axis = 2)) / 2.00).astype(np.uint8)\n",
        "\n",
        "greyImage4"
      ]
    },
    {
      "cell_type": "code",
      "execution_count": null,
      "metadata": {
        "id": "zMpaFxfEBzOu"
      },
      "outputs": [],
      "source": [
        "plt.imshow(greyImage4, cmap = \"gray\")\n",
        "plt.axis(\"off\")\n",
        "plt.show()"
      ]
    },
    {
      "cell_type": "code",
      "execution_count": null,
      "metadata": {
        "id": "XT_RoH0ZKjUp"
      },
      "outputs": [],
      "source": [
        "# 2. Going from greyscale to binary\n",
        "#Simplest way is to apply a threshold d = 127\n",
        "d = 127\n",
        "\n",
        "#Proceed from grayscale to binary\n",
        "_, binary2 = cv2.threshold(greyImage2, d, 255, cv2.THRESH_BINARY)\n",
        "_, binary3 = cv2.threshold(greyImage3, d, 255, cv2.THRESH_BINARY)"
      ]
    },
    {
      "cell_type": "code",
      "execution_count": null,
      "metadata": {
        "id": "ABDTzJ6sK45n"
      },
      "outputs": [],
      "source": [
        "plt.imshow(binary2, cmap=\"gray\")\n",
        "plt.axis(\"off\")"
      ]
    },
    {
      "cell_type": "code",
      "execution_count": null,
      "metadata": {
        "id": "Alxh_HBLLAaj"
      },
      "outputs": [],
      "source": [
        "plt.imshow(binary3, cmap = \"gray\")\n",
        "plt.axis(\"off\")"
      ]
    }
  ],
  "metadata": {
    "colab": {
      "provenance": []
    },
    "kernelspec": {
      "display_name": "Python 3",
      "name": "python3"
    },
    "language_info": {
      "codemirror_mode": {
        "name": "ipython",
        "version": 3
      },
      "file_extension": ".py",
      "mimetype": "text/x-python",
      "name": "python",
      "nbconvert_exporter": "python",
      "pygments_lexer": "ipython3",
      "version": "3.10.0"
    }
  },
  "nbformat": 4,
  "nbformat_minor": 0
}
