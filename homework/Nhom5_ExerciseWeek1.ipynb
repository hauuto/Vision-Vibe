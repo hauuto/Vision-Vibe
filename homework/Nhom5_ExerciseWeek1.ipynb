{
  "cells": [
    {
      "cell_type": "code",
      "execution_count": null,
      "metadata": {
        "id": "vRfaaVKZ2QHa"
      },
      "outputs": [],
      "source": [
        "#import libraries\n",
        "import cv2\n",
        "# from google.colab.patches import cv2_imshow\n",
        "#to display at jupyter notebook\n",
        "import matplotlib.pyplot as plt\n",
        "import numpy as np\n"
      ]
    },
    {
      "cell_type": "code",
      "execution_count": null,
      "metadata": {
        "id": "KUe5F8J-4xzP"
      },
      "outputs": [],
      "source": [
        "#Read images\n",
        "iname1 = \"img/1.png\"\n",
        "iname2 = \"img/2.jpg\"\n",
        "iname3 = \"img/3.jpg\"\n",
        "iname5 = \"img/5.jpg\"\n",
        "\n",
        "image1 = cv2.imread(iname1, cv2.IMREAD_GRAYSCALE)\n",
        "image2 = cv2.imread(iname2)\n",
        "image3 = cv2.imread(iname3)\n",
        "image5 = cv2.imread(iname5) "
      ]
    },
    {
      "cell_type": "code",
      "execution_count": null,
      "metadata": {},
      "outputs": [],
      "source": []
    },
    {
      "cell_type": "code",
      "execution_count": null,
      "metadata": {},
      "outputs": [],
      "source": [
        "image1"
      ]
    },
    {
      "cell_type": "code",
      "execution_count": null,
      "metadata": {
        "colab": {
          "base_uri": "https://localhost:8080/",
          "height": 557
        },
        "id": "v94w1jU05c6C",
        "outputId": "1f4de974-f124-46d1-a4f9-0976c6e75373"
      },
      "outputs": [],
      "source": [
        "#Show images\n",
        "cv2.imshow(\"abc\", image1)\n",
        "cv2.waitKey(0)\n",
        "cv2.destroyAllWindows()"
      ]
    },
    {
      "cell_type": "code",
      "execution_count": null,
      "metadata": {
        "id": "3f1hqit82WYu"
      },
      "outputs": [],
      "source": [
        "#EXERCISE 1:\n",
        "#1. Opening and Viewing Grayscale Images\n",
        "imgGray = cv2.imread(iname1, 0)\n",
        "plt.imshow(imgGray, cmap=\"gray\")\n",
        "plt.axis(\"off\")\n",
        "plt.show()"
      ]
    },
    {
      "cell_type": "code",
      "execution_count": null,
      "metadata": {
        "id": "6Xm0tIu96rzZ"
      },
      "outputs": [],
      "source": [
        "imgGray = cv2.imread(iname2, 0)\n",
        "plt.imshow(imgGray, cmap=\"gray\")\n",
        "plt.axis(\"off\")\n",
        "plt.show()"
      ]
    },
    {
      "cell_type": "code",
      "execution_count": null,
      "metadata": {
        "id": "OFRxlm2X6iVU"
      },
      "outputs": [],
      "source": [
        "imgGray = cv2.imread(iname3, 0)\n",
        "plt.imshow(imgGray, cmap=\"gray\")\n",
        "plt.axis(\"off\")\n",
        "plt.show()"
      ]
    },
    {
      "cell_type": "code",
      "execution_count": null,
      "metadata": {
        "id": "K7tfZS3Z68P0"
      },
      "outputs": [],
      "source": [
        "# 2. Numeric Types and Conversions\n",
        "import numpy as np\n",
        "image = cv2.imread(iname1)\n",
        "plt.axis(\"off\")\n",
        "plt.imshow(image[:,:,::-1])\n"
      ]
    },
    {
      "cell_type": "code",
      "execution_count": null,
      "metadata": {
        "id": "z9aUAz0C7Vd5"
      },
      "outputs": [],
      "source": [
        "\n",
        "\n",
        "image1 = cv2.cvtColor(image, cv2.COLOR_BGR2RGB)\n",
        "image1"
      ]
    },
    {
      "cell_type": "code",
      "execution_count": null,
      "metadata": {
        "id": "c50Ib17f74i3"
      },
      "outputs": [],
      "source": [
        "#Các pixel đều ở dạng integer 16bit\n",
        "pixel_int16 = np.int16(image1)\n",
        "pixel_int16"
      ]
    },
    {
      "cell_type": "code",
      "execution_count": null,
      "metadata": {
        "id": "xTiFzJWQ8IEe"
      },
      "outputs": [],
      "source": [
        "#Ma trận gồm các giá trị [0,1]\n",
        "image1Norm = image1 / 255.0\n",
        "image1Norm"
      ]
    },
    {
      "cell_type": "code",
      "execution_count": null,
      "metadata": {
        "id": "kdbQOIpT-U7t"
      },
      "outputs": [],
      "source": [
        "# 3. Load ảnh và hiển thị đồng thời các cả các ảnh trong thư mục **img** trên jupyter\n",
        "# notebook. Sau đó dùng thư viện openCV để biến đổi các bức ảnh thành chế độ đen\n",
        "# trắng, HSV, Lab và hiển thị kết quả\n"
      ]
    },
    {
      "cell_type": "code",
      "execution_count": null,
      "metadata": {
        "id": "R5gw6fGpB5-q"
      },
      "outputs": [],
      "source": [
        "import glob\n",
        "import os"
      ]
    },
    {
      "cell_type": "code",
      "execution_count": null,
      "metadata": {
        "id": "BMqt_ajHAX_r"
      },
      "outputs": [],
      "source": [
        "image_paths = [i for i in glob.glob(\"img/*.*\") if i.endswith(('.png', '.jpg'))]\n",
        "print(\"Tìm thấy\", len(image_paths), \"ảnh\")"
      ]
    },
    {
      "cell_type": "code",
      "execution_count": null,
      "metadata": {
        "id": "vxGMKji0-aKm"
      },
      "outputs": [],
      "source": [
        "#Hiển thị đồng thời các ảnh gốc\n",
        "plt.figure(figsize=(30, 20))\n",
        "for idx, path in enumerate(image_paths):\n",
        "    # Đọc ảnh gốc (BGR)\n",
        "    img = cv2.imread(path)\n",
        "\n",
        "    #chuyển ảnh từ hệ BGR sang RGB\n",
        "    img_rgb = cv2.cvtColor(img, cv2.COLOR_BGR2RGB)\n",
        "\n",
        "    #hiển thị ảnh gốc\n",
        "    plt.subplot(len(image_paths), 4, idx*4 + 1)\n",
        "    plt.imshow(img_rgb)\n",
        "    plt.axis(\"off\")\n",
        "\n",
        "\n",
        "plt.tight_layout()\n",
        "plt.show()\n"
      ]
    },
    {
      "cell_type": "code",
      "execution_count": null,
      "metadata": {
        "id": "fmEGch-5BHLH"
      },
      "outputs": [],
      "source": [
        "#Hiển thị các ảnh ở chế độ đen trắng\n",
        "plt.figure(figsize=(30, 20))\n",
        "for idx, path in enumerate(image_paths):\n",
        "    # Đọc ảnh gốc (BGR)\n",
        "    img = cv2.imread(path)\n",
        "\n",
        "    #chuyển ảnh từ hệ BGR sang Grayscale --> Binary (đen trắng)\n",
        "    gray = cv2.cvtColor(img, cv2.COLOR_BGR2GRAY)\n",
        "    _, binary = cv2.threshold(gray, 127, 255, cv2.THRESH_BINARY)\n",
        "\n",
        "    #hiển thị ảnh gốc\n",
        "    plt.subplot(len(image_paths), 4, idx*4 + 2)\n",
        "    plt.imshow(binary, cmap=\"gray\")\n",
        "    plt.axis(\"off\")\n",
        "\n",
        "plt.tight_layout()\n",
        "plt.show()"
      ]
    },
    {
      "cell_type": "code",
      "execution_count": null,
      "metadata": {
        "id": "VJq_4RR7GDlO"
      },
      "outputs": [],
      "source": [
        "#Hiển thị các ảnh ở chế độ HSV\n",
        "plt.figure(figsize=(30, 20))\n",
        "for idx, path in enumerate(image_paths):\n",
        "    # Đọc ảnh gốc (BGR)\n",
        "    img = cv2.imread(path)\n",
        "\n",
        "    #chuyển ảnh từ hệ BGR sang HSV\n",
        "    hsv = cv2.cvtColor(img, cv2.COLOR_BGR2HSV)\n",
        "\n",
        "    #hiển thị ảnh gốc\n",
        "    plt.subplot(len(image_paths), 4, idx*4 + 3)\n",
        "    plt.imshow(hsv)\n",
        "    plt.axis(\"off\")\n",
        "\n",
        "plt.tight_layout()\n",
        "plt.show()"
      ]
    },
    {
      "cell_type": "code",
      "execution_count": null,
      "metadata": {},
      "outputs": [],
      "source": [
        "#Example of adjusting saturation\n",
        "hsv = cv2.cvtColor(cv2.imread(iname1), cv2.COLOR_BGR2HSV)\n",
        "h, s, v = cv2.split(hsv)\n",
        "s = cv2.multiply(s, 0.2)\n",
        "temp = cv2.merge((h, s, v))\n",
        "\n",
        "rgb = cv2.cvtColor(temp, cv2.COLOR_HSV2RGB)\n",
        "plt.imshow(rgb)\n",
        "plt.axis(\"off\")\n",
        "plt.show()"
      ]
    },
    {
      "cell_type": "code",
      "execution_count": null,
      "metadata": {
        "id": "MCz3AXwGGv5I"
      },
      "outputs": [],
      "source": [
        "#Hiển thị các ảnh ở chế độ Lab\n",
        "plt.figure(figsize=(30, 20))\n",
        "for idx, path in enumerate(image_paths):\n",
        "    # Đọc ảnh gốc (BGR)\n",
        "    img = cv2.imread(path)\n",
        "\n",
        "    #chuyển ảnh từ hệ BGR sang RGB\n",
        "    lab = cv2.cvtColor(img, cv2.COLOR_BGR2Lab)\n",
        "\n",
        "    #hiển thị ảnh gốc\n",
        "    plt.subplot(len(image_paths), 4, idx*4 + 3)\n",
        "    plt.imshow(lab)\n",
        "    plt.axis(\"off\")\n",
        "\n",
        "plt.tight_layout()\n",
        "plt.show()"
      ]
    },
    {
      "cell_type": "code",
      "execution_count": null,
      "metadata": {},
      "outputs": [],
      "source": [
        "#Example of adjusting Lightness\n",
        "lab = cv2.cvtColor(cv2.imread(iname1), cv2.COLOR_BGR2Lab)\n",
        "L, a, b = cv2.split(lab)\n",
        "L = cv2.multiply(L, 0.3)\n",
        "temp = cv2.merge((L, a, b))\n",
        "\n",
        "rgb = cv2.cvtColor(temp, cv2.COLOR_Lab2RGB)\n",
        "plt.imshow(rgb)\n",
        "plt.axis(\"off\")\n",
        "plt.show()"
      ]
    },
    {
      "cell_type": "code",
      "execution_count": null,
      "metadata": {
        "id": "GPEq2eIuHMJE"
      },
      "outputs": [],
      "source": [
        "#EXERCISE 2:\n",
        "#1. RGB to grayscale\n",
        "\n",
        "#First method: Get the average of\n",
        "#Read image\n",
        "img2 = cv2.imread(iname2)\n",
        "img3 = cv2.imread(iname3)\n",
        "img5 = cv2.imread(iname5)\n",
        "\n",
        "#Convert to RGB version\n",
        "rgbImg3 = cv2.cvtColor(img3, cv2.COLOR_BGR2RGB)\n",
        "rgbImg2 = cv2.cvtColor(img2, cv2.COLOR_BGR2RGB)\n",
        "rgbImg5 = cv2.cvtColor(img5, cv2.COLOR_BGR2RGB)\n",
        "\n",
        "#RGB --> Grayscale\n",
        "R2, G2, B2 = [ch.astype(np.float32) for ch in cv2.split(rgbImg2)]\n",
        "\n",
        "R3, G3, B3 = [ch.astype(np.float32) for ch in cv2.split(rgbImg3)]\n",
        "R5, G5, B5 = [ch.astype(np.float32) for ch in cv2.split(rgbImg5)]\n",
        "#Taking the average:\n",
        "greyImage2 = ((R2 + G2 + B2) / 3.00).astype(np.uint8)\n",
        "greyImage3 = ((R3 + G3 + B3) / 3.00).astype(np.uint8)\n",
        "greyImage5 = ((R5 + G5 + B5) / 3.00).astype(np.uint8)"
      ]
    },
    {
      "cell_type": "code",
      "execution_count": null,
      "metadata": {
        "id": "b3AHmb87Id0S"
      },
      "outputs": [],
      "source": [
        "# d = 0.5\n",
        "\n",
        "# binaryImage5 = (greyImage5 >= d).astype(np.uint8)\n",
        "# plt.imshow(binaryImage5, cmap=\"gray\")\n",
        "# plt.axis(\"off\")\n",
        "# plt.show()\n",
        "plt.imshow(greyImage5, cmap=\"gray\")\n",
        "plt.axis(\"off\")\n",
        "plt.show()\n"
      ]
    },
    {
      "cell_type": "code",
      "execution_count": null,
      "metadata": {},
      "outputs": [],
      "source": [
        "plt.imshow(greyImage3, cmap=\"gray\")\n",
        "plt.axis(\"off\")\n",
        "plt.show()"
      ]
    },
    {
      "cell_type": "code",
      "execution_count": null,
      "metadata": {
        "id": "mt2bRdoE4xUu"
      },
      "outputs": [],
      "source": [
        "#Second method: Gray = 0.299*R + 0.587*G + 0.114*B\n",
        "#Read image\n",
        "img2 = cv2.imread(iname2)\n",
        "img3 = cv2.imread(iname3)\n",
        "img5 = cv2.imread(iname5)\n",
        "\n",
        "#Convert to RGB version\n",
        "rgbImg3 = cv2.cvtColor(img3, cv2.COLOR_BGR2RGB)\n",
        "rgbImg2 = cv2.cvtColor(img2, cv2.COLOR_BGR2RGB)\n",
        "rgbImg5 = cv2.cvtColor(img5, cv2.COLOR_BGR2RGB)\n",
        "\n",
        "#RGB --> Grayscale\n",
        "R2, G2, B2 = [ch.astype(np.float32) for ch in cv2.split(rgbImg2)]\n",
        "\n",
        "R3, G3, B3 = [ch.astype(np.float32) for ch in cv2.split(rgbImg3)]\n",
        "R5, G5, B5 = [ch.astype(np.float32) for ch in cv2.split(rgbImg5)]\n",
        "#Taking the average:\n",
        "greyImage2 = ((R2* 0.299 + G2* 0.587 + B2* 0.114)).astype(np.uint8)\n",
        "greyImage3 = ((R3* 0.299 + G3* 0.587 + B3* 0.114)).astype(np.uint8)\n",
        "greyImage5 = ((R5* 0.299 + G5* 0.587 + B5* 0.114)).astype(np.uint8)"
      ]
    },
    {
      "cell_type": "code",
      "execution_count": null,
      "metadata": {},
      "outputs": [],
      "source": [
        "#Làm như slide\n",
        "d = 126\n",
        "temp = greyImage5.copy()\n",
        "temp[temp < d] = 0\n",
        "temp[temp >= d] = 255\n",
        "plt.imshow(temp, cmap=\"gray\")\n",
        "plt.axis(\"off\")\n",
        "plt.show()"
      ]
    },
    {
      "cell_type": "code",
      "execution_count": null,
      "metadata": {
        "id": "3OoOLVet9fDP"
      },
      "outputs": [],
      "source": [
        "plt.imshow(greyImage3, cmap=\"gray\")\n",
        "plt.axis(\"off\")\n",
        "plt.show()"
      ]
    },
    {
      "cell_type": "code",
      "execution_count": null,
      "metadata": {
        "id": "RyDOap1n9z3Y"
      },
      "outputs": [],
      "source": [
        "#Third method: Lightness Method - MinMax\n",
        "#Read image\n",
        "img2 = cv2.imread(iname2)\n",
        "img3 = cv2.imread(iname3)\n",
        "\n",
        "#Convert to RGB version\n",
        "rgbImg3 = cv2.cvtColor(img3, cv2.COLOR_BGR2RGB)\n",
        "rgbImg2 = cv2.cvtColor(img2, cv2.COLOR_BGR2RGB)\n",
        "\n",
        "#RGB --> Grayscale\n",
        "R2, G2, B2 = [ch.astype(np.float32) for ch in cv2.split(rgbImg2)]\n",
        "\n",
        "R3, G3, B3 = [ch.astype(np.float32) for ch in cv2.split(rgbImg3)]\n",
        "#Taking the average:\n",
        "greyImage2 = ((np.maximum.reduce([R2, G2, B2]) + np.minimum.reduce([R2, G2, B2])) / 2).astype(np.uint8)\n",
        "greyImage3 = ((np.maximum.reduce([R3, G3, B3]) + np.minimum.reduce([R3, G3, B3])) / 2).astype(np.uint8)"
      ]
    },
    {
      "cell_type": "code",
      "execution_count": null,
      "metadata": {},
      "outputs": [],
      "source": [
        "plt.imshow(greyImage2, cmap=\"gray\")\n",
        "plt.axis(\"off\")\n",
        "plt.show()"
      ]
    },
    {
      "cell_type": "code",
      "execution_count": null,
      "metadata": {},
      "outputs": [],
      "source": [
        "plt.imshow(greyImage3, cmap=\"gray\")\n",
        "plt.axis(\"off\")\n",
        "plt.show()"
      ]
    },
    {
      "cell_type": "code",
      "execution_count": null,
      "metadata": {
        "id": "XT_RoH0ZKjUp"
      },
      "outputs": [],
      "source": [
        "# 2. Going from greyscale to binary\n",
        "#Simplest way is to apply a threshold d = 127\n",
        "d = 127\n",
        "\n",
        "#Proceed from grayscale to binary\n",
        "_, binary2 = cv2.threshold(greyImage2, d, 255, cv2.THRESH_BINARY)\n",
        "_, binary3 = cv2.threshold(greyImage3, d, 255, cv2.THRESH_BINARY)"
      ]
    },
    {
      "cell_type": "code",
      "execution_count": null,
      "metadata": {
        "id": "ABDTzJ6sK45n"
      },
      "outputs": [],
      "source": [
        "plt.imshow(binary2, cmap=\"gray\")\n",
        "plt.axis(\"off\")"
      ]
    },
    {
      "cell_type": "code",
      "execution_count": null,
      "metadata": {
        "id": "Alxh_HBLLAaj"
      },
      "outputs": [],
      "source": [
        "plt.imshow(binary3, cmap = \"gray\")\n",
        "plt.axis(\"off\")"
      ]
    }
  ],
  "metadata": {
    "colab": {
      "provenance": []
    },
    "kernelspec": {
      "display_name": ".venv",
      "language": "python",
      "name": "python3"
    },
    "language_info": {
      "codemirror_mode": {
        "name": "ipython",
        "version": 3
      },
      "file_extension": ".py",
      "mimetype": "text/x-python",
      "name": "python",
      "nbconvert_exporter": "python",
      "pygments_lexer": "ipython3",
      "version": "3.13.2"
    }
  },
  "nbformat": 4,
  "nbformat_minor": 0
}
